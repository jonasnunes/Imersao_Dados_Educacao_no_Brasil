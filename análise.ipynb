{
 "cells": [
  {
   "cell_type": "markdown",
   "id": "feadf0b1",
   "metadata": {},
   "source": [
    "# Imersão Dados 2 - Educação no Brasil"
   ]
  },
  {
   "cell_type": "code",
   "execution_count": 1,
   "id": "a16ad97a",
   "metadata": {},
   "outputs": [
    {
     "data": {
      "text/html": [
       "<div>\n",
       "<style scoped>\n",
       "    .dataframe tbody tr th:only-of-type {\n",
       "        vertical-align: middle;\n",
       "    }\n",
       "\n",
       "    .dataframe tbody tr th {\n",
       "        vertical-align: top;\n",
       "    }\n",
       "\n",
       "    .dataframe thead th {\n",
       "        text-align: right;\n",
       "    }\n",
       "</style>\n",
       "<table border=\"1\" class=\"dataframe\">\n",
       "  <thead>\n",
       "    <tr style=\"text-align: right;\">\n",
       "      <th></th>\n",
       "      <th>NU_INSCRICAO</th>\n",
       "      <th>NU_ANO</th>\n",
       "      <th>CO_MUNICIPIO_RESIDENCIA</th>\n",
       "      <th>NO_MUNICIPIO_RESIDENCIA</th>\n",
       "      <th>CO_UF_RESIDENCIA</th>\n",
       "      <th>SG_UF_RESIDENCIA</th>\n",
       "      <th>NU_IDADE</th>\n",
       "      <th>TP_SEXO</th>\n",
       "      <th>TP_ESTADO_CIVIL</th>\n",
       "      <th>TP_COR_RACA</th>\n",
       "      <th>...</th>\n",
       "      <th>Q016</th>\n",
       "      <th>Q017</th>\n",
       "      <th>Q018</th>\n",
       "      <th>Q019</th>\n",
       "      <th>Q020</th>\n",
       "      <th>Q021</th>\n",
       "      <th>Q022</th>\n",
       "      <th>Q023</th>\n",
       "      <th>Q024</th>\n",
       "      <th>Q025</th>\n",
       "    </tr>\n",
       "  </thead>\n",
       "  <tbody>\n",
       "    <tr>\n",
       "      <th>0</th>\n",
       "      <td>190001004661</td>\n",
       "      <td>2019</td>\n",
       "      <td>1506138</td>\n",
       "      <td>Redenção</td>\n",
       "      <td>15</td>\n",
       "      <td>PA</td>\n",
       "      <td>17</td>\n",
       "      <td>M</td>\n",
       "      <td>1</td>\n",
       "      <td>3</td>\n",
       "      <td>...</td>\n",
       "      <td>A</td>\n",
       "      <td>A</td>\n",
       "      <td>A</td>\n",
       "      <td>A</td>\n",
       "      <td>B</td>\n",
       "      <td>A</td>\n",
       "      <td>C</td>\n",
       "      <td>A</td>\n",
       "      <td>B</td>\n",
       "      <td>B</td>\n",
       "    </tr>\n",
       "    <tr>\n",
       "      <th>1</th>\n",
       "      <td>190001004674</td>\n",
       "      <td>2019</td>\n",
       "      <td>1504208</td>\n",
       "      <td>Marabá</td>\n",
       "      <td>15</td>\n",
       "      <td>PA</td>\n",
       "      <td>23</td>\n",
       "      <td>M</td>\n",
       "      <td>1</td>\n",
       "      <td>3</td>\n",
       "      <td>...</td>\n",
       "      <td>A</td>\n",
       "      <td>A</td>\n",
       "      <td>A</td>\n",
       "      <td>B</td>\n",
       "      <td>A</td>\n",
       "      <td>A</td>\n",
       "      <td>B</td>\n",
       "      <td>A</td>\n",
       "      <td>A</td>\n",
       "      <td>B</td>\n",
       "    </tr>\n",
       "    <tr>\n",
       "      <th>2</th>\n",
       "      <td>190001004722</td>\n",
       "      <td>2019</td>\n",
       "      <td>1501402</td>\n",
       "      <td>Belém</td>\n",
       "      <td>15</td>\n",
       "      <td>PA</td>\n",
       "      <td>35</td>\n",
       "      <td>F</td>\n",
       "      <td>2</td>\n",
       "      <td>1</td>\n",
       "      <td>...</td>\n",
       "      <td>A</td>\n",
       "      <td>A</td>\n",
       "      <td>A</td>\n",
       "      <td>B</td>\n",
       "      <td>A</td>\n",
       "      <td>B</td>\n",
       "      <td>B</td>\n",
       "      <td>A</td>\n",
       "      <td>A</td>\n",
       "      <td>B</td>\n",
       "    </tr>\n",
       "    <tr>\n",
       "      <th>3</th>\n",
       "      <td>190001004735</td>\n",
       "      <td>2019</td>\n",
       "      <td>1507300</td>\n",
       "      <td>São Félix do Xingu</td>\n",
       "      <td>15</td>\n",
       "      <td>PA</td>\n",
       "      <td>23</td>\n",
       "      <td>F</td>\n",
       "      <td>1</td>\n",
       "      <td>3</td>\n",
       "      <td>...</td>\n",
       "      <td>A</td>\n",
       "      <td>A</td>\n",
       "      <td>A</td>\n",
       "      <td>B</td>\n",
       "      <td>A</td>\n",
       "      <td>A</td>\n",
       "      <td>B</td>\n",
       "      <td>A</td>\n",
       "      <td>A</td>\n",
       "      <td>B</td>\n",
       "    </tr>\n",
       "    <tr>\n",
       "      <th>4</th>\n",
       "      <td>190001004776</td>\n",
       "      <td>2019</td>\n",
       "      <td>1500800</td>\n",
       "      <td>Ananindeua</td>\n",
       "      <td>15</td>\n",
       "      <td>PA</td>\n",
       "      <td>16</td>\n",
       "      <td>F</td>\n",
       "      <td>1</td>\n",
       "      <td>3</td>\n",
       "      <td>...</td>\n",
       "      <td>A</td>\n",
       "      <td>A</td>\n",
       "      <td>A</td>\n",
       "      <td>B</td>\n",
       "      <td>A</td>\n",
       "      <td>A</td>\n",
       "      <td>D</td>\n",
       "      <td>A</td>\n",
       "      <td>A</td>\n",
       "      <td>B</td>\n",
       "    </tr>\n",
       "  </tbody>\n",
       "</table>\n",
       "<p>5 rows × 136 columns</p>\n",
       "</div>"
      ],
      "text/plain": [
       "   NU_INSCRICAO  NU_ANO  CO_MUNICIPIO_RESIDENCIA NO_MUNICIPIO_RESIDENCIA  \\\n",
       "0  190001004661    2019                  1506138                Redenção   \n",
       "1  190001004674    2019                  1504208                  Marabá   \n",
       "2  190001004722    2019                  1501402                   Belém   \n",
       "3  190001004735    2019                  1507300      São Félix do Xingu   \n",
       "4  190001004776    2019                  1500800              Ananindeua   \n",
       "\n",
       "   CO_UF_RESIDENCIA SG_UF_RESIDENCIA  NU_IDADE TP_SEXO  TP_ESTADO_CIVIL  \\\n",
       "0                15               PA        17       M                1   \n",
       "1                15               PA        23       M                1   \n",
       "2                15               PA        35       F                2   \n",
       "3                15               PA        23       F                1   \n",
       "4                15               PA        16       F                1   \n",
       "\n",
       "   TP_COR_RACA  ...  Q016  Q017 Q018  Q019 Q020  Q021  Q022  Q023  Q024  Q025  \n",
       "0            3  ...     A     A    A     A    B     A     C     A     B     B  \n",
       "1            3  ...     A     A    A     B    A     A     B     A     A     B  \n",
       "2            1  ...     A     A    A     B    A     B     B     A     A     B  \n",
       "3            3  ...     A     A    A     B    A     A     B     A     A     B  \n",
       "4            3  ...     A     A    A     B    A     A     D     A     A     B  \n",
       "\n",
       "[5 rows x 136 columns]"
      ]
     },
     "execution_count": 1,
     "metadata": {},
     "output_type": "execute_result"
    }
   ],
   "source": [
    "import pandas as pd\n",
    "\n",
    "# adicionar a fonte de dados a uma variável\n",
    "fonte = \"https://github.com/alura-cursos/imersao-dados-2-2020/blob/master/MICRODADOS_ENEM_2019_SAMPLE_43278.csv?raw=true\"\n",
    "\n",
    "# ler a fonte de dados\n",
    "dados = pd.read_csv(fonte)\n",
    "\n",
    "# função para poder escolher a quantidade de linhas que quer visualizar (padrão 5 linhas)\n",
    "dados.head()"
   ]
  },
  {
   "cell_type": "code",
   "execution_count": 4,
   "id": "98cc5737",
   "metadata": {},
   "outputs": [
    {
     "data": {
      "text/plain": [
       "(127380, 136)"
      ]
     },
     "execution_count": 4,
     "metadata": {},
     "output_type": "execute_result"
    }
   ],
   "source": [
    "# descobrindo a quantidade de linhas e colunas\n",
    "dados.shape"
   ]
  },
  {
   "cell_type": "code",
   "execution_count": 5,
   "id": "a35af4ac",
   "metadata": {},
   "outputs": [
    {
     "data": {
      "text/plain": [
       "0         PA\n",
       "1         PA\n",
       "2         PA\n",
       "3         PA\n",
       "4         PA\n",
       "          ..\n",
       "127375    MG\n",
       "127376    BA\n",
       "127377    BA\n",
       "127378    BA\n",
       "127379    MG\n",
       "Name: SG_UF_RESIDENCIA, Length: 127380, dtype: object"
      ]
     },
     "execution_count": 5,
     "metadata": {},
     "output_type": "execute_result"
    }
   ],
   "source": [
    "# selecionando uma coluna específica\n",
    "dados['SG_UF_RESIDENCIA']"
   ]
  },
  {
   "cell_type": "code",
   "execution_count": 6,
   "id": "a230bffe",
   "metadata": {},
   "outputs": [
    {
     "data": {
      "text/plain": [
       "array(['NU_INSCRICAO', 'NU_ANO', 'CO_MUNICIPIO_RESIDENCIA',\n",
       "       'NO_MUNICIPIO_RESIDENCIA', 'CO_UF_RESIDENCIA', 'SG_UF_RESIDENCIA',\n",
       "       'NU_IDADE', 'TP_SEXO', 'TP_ESTADO_CIVIL', 'TP_COR_RACA',\n",
       "       'TP_NACIONALIDADE', 'CO_MUNICIPIO_NASCIMENTO',\n",
       "       'NO_MUNICIPIO_NASCIMENTO', 'CO_UF_NASCIMENTO', 'SG_UF_NASCIMENTO',\n",
       "       'TP_ST_CONCLUSAO', 'TP_ANO_CONCLUIU', 'TP_ESCOLA', 'TP_ENSINO',\n",
       "       'IN_TREINEIRO', 'CO_ESCOLA', 'CO_MUNICIPIO_ESC',\n",
       "       'NO_MUNICIPIO_ESC', 'CO_UF_ESC', 'SG_UF_ESC',\n",
       "       'TP_DEPENDENCIA_ADM_ESC', 'TP_LOCALIZACAO_ESC', 'TP_SIT_FUNC_ESC',\n",
       "       'IN_BAIXA_VISAO', 'IN_CEGUEIRA', 'IN_SURDEZ',\n",
       "       'IN_DEFICIENCIA_AUDITIVA', 'IN_SURDO_CEGUEIRA',\n",
       "       'IN_DEFICIENCIA_FISICA', 'IN_DEFICIENCIA_MENTAL',\n",
       "       'IN_DEFICIT_ATENCAO', 'IN_DISLEXIA', 'IN_DISCALCULIA',\n",
       "       'IN_AUTISMO', 'IN_VISAO_MONOCULAR', 'IN_OUTRA_DEF', 'IN_GESTANTE',\n",
       "       'IN_LACTANTE', 'IN_IDOSO', 'IN_ESTUDA_CLASSE_HOSPITALAR',\n",
       "       'IN_SEM_RECURSO', 'IN_BRAILLE', 'IN_AMPLIADA_24', 'IN_AMPLIADA_18',\n",
       "       'IN_LEDOR', 'IN_ACESSO', 'IN_TRANSCRICAO', 'IN_LIBRAS',\n",
       "       'IN_TEMPO_ADICIONAL', 'IN_LEITURA_LABIAL', 'IN_MESA_CADEIRA_RODAS',\n",
       "       'IN_MESA_CADEIRA_SEPARADA', 'IN_APOIO_PERNA', 'IN_GUIA_INTERPRETE',\n",
       "       'IN_COMPUTADOR', 'IN_CADEIRA_ESPECIAL', 'IN_CADEIRA_CANHOTO',\n",
       "       'IN_CADEIRA_ACOLCHOADA', 'IN_PROVA_DEITADO', 'IN_MOBILIARIO_OBESO',\n",
       "       'IN_LAMINA_OVERLAY', 'IN_PROTETOR_AURICULAR', 'IN_MEDIDOR_GLICOSE',\n",
       "       'IN_MAQUINA_BRAILE', 'IN_SOROBAN', 'IN_MARCA_PASSO', 'IN_SONDA',\n",
       "       'IN_MEDICAMENTOS', 'IN_SALA_INDIVIDUAL', 'IN_SALA_ESPECIAL',\n",
       "       'IN_SALA_ACOMPANHANTE', 'IN_MOBILIARIO_ESPECIFICO',\n",
       "       'IN_MATERIAL_ESPECIFICO', 'IN_NOME_SOCIAL', 'CO_MUNICIPIO_PROVA',\n",
       "       'NO_MUNICIPIO_PROVA', 'CO_UF_PROVA', 'SG_UF_PROVA',\n",
       "       'TP_PRESENCA_CN', 'TP_PRESENCA_CH', 'TP_PRESENCA_LC',\n",
       "       'TP_PRESENCA_MT', 'CO_PROVA_CN', 'CO_PROVA_CH', 'CO_PROVA_LC',\n",
       "       'CO_PROVA_MT', 'NU_NOTA_CN', 'NU_NOTA_CH', 'NU_NOTA_LC',\n",
       "       'NU_NOTA_MT', 'TX_RESPOSTAS_CN', 'TX_RESPOSTAS_CH',\n",
       "       'TX_RESPOSTAS_LC', 'TX_RESPOSTAS_MT', 'TP_LINGUA',\n",
       "       'TX_GABARITO_CN', 'TX_GABARITO_CH', 'TX_GABARITO_LC',\n",
       "       'TX_GABARITO_MT', 'TP_STATUS_REDACAO', 'NU_NOTA_COMP1',\n",
       "       'NU_NOTA_COMP2', 'NU_NOTA_COMP3', 'NU_NOTA_COMP4', 'NU_NOTA_COMP5',\n",
       "       'NU_NOTA_REDACAO', 'Q001', 'Q002', 'Q003', 'Q004', 'Q005', 'Q006',\n",
       "       'Q007', 'Q008', 'Q009', 'Q010', 'Q011', 'Q012', 'Q013', 'Q014',\n",
       "       'Q015', 'Q016', 'Q017', 'Q018', 'Q019', 'Q020', 'Q021', 'Q022',\n",
       "       'Q023', 'Q024', 'Q025'], dtype=object)"
      ]
     },
     "execution_count": 6,
     "metadata": {},
     "output_type": "execute_result"
    }
   ],
   "source": [
    "# retornar o nome das colunas\n",
    "dados.columns.values"
   ]
  },
  {
   "cell_type": "code",
   "execution_count": 7,
   "id": "4fe13ca5",
   "metadata": {},
   "outputs": [
    {
     "data": {
      "text/html": [
       "<div>\n",
       "<style scoped>\n",
       "    .dataframe tbody tr th:only-of-type {\n",
       "        vertical-align: middle;\n",
       "    }\n",
       "\n",
       "    .dataframe tbody tr th {\n",
       "        vertical-align: top;\n",
       "    }\n",
       "\n",
       "    .dataframe thead th {\n",
       "        text-align: right;\n",
       "    }\n",
       "</style>\n",
       "<table border=\"1\" class=\"dataframe\">\n",
       "  <thead>\n",
       "    <tr style=\"text-align: right;\">\n",
       "      <th></th>\n",
       "      <th>SG_UF_RESIDENCIA</th>\n",
       "      <th>Q025</th>\n",
       "    </tr>\n",
       "  </thead>\n",
       "  <tbody>\n",
       "    <tr>\n",
       "      <th>0</th>\n",
       "      <td>PA</td>\n",
       "      <td>B</td>\n",
       "    </tr>\n",
       "    <tr>\n",
       "      <th>1</th>\n",
       "      <td>PA</td>\n",
       "      <td>B</td>\n",
       "    </tr>\n",
       "    <tr>\n",
       "      <th>2</th>\n",
       "      <td>PA</td>\n",
       "      <td>B</td>\n",
       "    </tr>\n",
       "    <tr>\n",
       "      <th>3</th>\n",
       "      <td>PA</td>\n",
       "      <td>B</td>\n",
       "    </tr>\n",
       "    <tr>\n",
       "      <th>4</th>\n",
       "      <td>PA</td>\n",
       "      <td>B</td>\n",
       "    </tr>\n",
       "    <tr>\n",
       "      <th>...</th>\n",
       "      <td>...</td>\n",
       "      <td>...</td>\n",
       "    </tr>\n",
       "    <tr>\n",
       "      <th>127375</th>\n",
       "      <td>MG</td>\n",
       "      <td>B</td>\n",
       "    </tr>\n",
       "    <tr>\n",
       "      <th>127376</th>\n",
       "      <td>BA</td>\n",
       "      <td>B</td>\n",
       "    </tr>\n",
       "    <tr>\n",
       "      <th>127377</th>\n",
       "      <td>BA</td>\n",
       "      <td>B</td>\n",
       "    </tr>\n",
       "    <tr>\n",
       "      <th>127378</th>\n",
       "      <td>BA</td>\n",
       "      <td>A</td>\n",
       "    </tr>\n",
       "    <tr>\n",
       "      <th>127379</th>\n",
       "      <td>MG</td>\n",
       "      <td>B</td>\n",
       "    </tr>\n",
       "  </tbody>\n",
       "</table>\n",
       "<p>127380 rows × 2 columns</p>\n",
       "</div>"
      ],
      "text/plain": [
       "       SG_UF_RESIDENCIA Q025\n",
       "0                    PA    B\n",
       "1                    PA    B\n",
       "2                    PA    B\n",
       "3                    PA    B\n",
       "4                    PA    B\n",
       "...                 ...  ...\n",
       "127375               MG    B\n",
       "127376               BA    B\n",
       "127377               BA    B\n",
       "127378               BA    A\n",
       "127379               MG    B\n",
       "\n",
       "[127380 rows x 2 columns]"
      ]
     },
     "execution_count": 7,
     "metadata": {},
     "output_type": "execute_result"
    }
   ],
   "source": [
    "# selecionando mais de uma coluna\n",
    "dados[['SG_UF_RESIDENCIA', 'Q025']]"
   ]
  },
  {
   "cell_type": "code",
   "execution_count": 16,
   "id": "97825ab8",
   "metadata": {},
   "outputs": [
    {
     "data": {
      "text/plain": [
       "array(['PA', 'RO', 'MT', 'AC', 'AM', 'RR', 'MA', 'PR', 'BA', 'PI', 'CE',\n",
       "       'PE', 'AP', 'TO', 'SC', 'GO', 'MG', 'SP', 'SE', 'RJ', 'PB', 'AL',\n",
       "       'RN', 'ES', 'DF', 'RS', 'MS'], dtype=object)"
      ]
     },
     "execution_count": 16,
     "metadata": {},
     "output_type": "execute_result"
    }
   ],
   "source": [
    "# descobrindo quais são os estados distintos na base de dados\n",
    "dados['SG_UF_RESIDENCIA'].unique()"
   ]
  },
  {
   "cell_type": "code",
   "execution_count": 12,
   "id": "e4919510",
   "metadata": {},
   "outputs": [
    {
     "name": "stdout",
     "output_type": "stream",
     "text": [
      "A base de dados possui 27 estados cadastrados.\n"
     ]
    }
   ],
   "source": [
    "# descobrindo a quantidade de estados\n",
    "qtde_estados = len(dados['SG_UF_RESIDENCIA'].unique())\n",
    "\n",
    "print(f'A base de dados possui {qtde_estados} estados cadastrados.')"
   ]
  },
  {
   "cell_type": "code",
   "execution_count": 21,
   "id": "274291b3",
   "metadata": {},
   "outputs": [
    {
     "data": {
      "text/plain": [
       "SP    20264\n",
       "MG    13547\n",
       "BA    10040\n",
       "RJ     8467\n",
       "CE     7381\n",
       "PA     7170\n",
       "PE     6941\n",
       "MA     5543\n",
       "RS     5466\n",
       "PR     5259\n",
       "GO     4268\n",
       "PB     3690\n",
       "PI     3034\n",
       "RN     2959\n",
       "AM     2820\n",
       "SC     2673\n",
       "ES     2550\n",
       "DF     2408\n",
       "AL     2263\n",
       "MT     2230\n",
       "SE     1815\n",
       "MS     1655\n",
       "RO     1400\n",
       "TO     1178\n",
       "AP     1047\n",
       "AC      946\n",
       "RR      366\n",
       "Name: SG_UF_RESIDENCIA, dtype: int64"
      ]
     },
     "execution_count": 21,
     "metadata": {},
     "output_type": "execute_result"
    }
   ],
   "source": [
    "# descobrindo quantas vezes o estado apareceu na base de dados\n",
    "dados['SG_UF_RESIDENCIA'].value_counts()"
   ]
  },
  {
   "cell_type": "code",
   "execution_count": 22,
   "id": "bed6e37a",
   "metadata": {},
   "outputs": [
    {
     "data": {
      "text/plain": [
       "18    21452\n",
       "17    21256\n",
       "19    14418\n",
       "20    10413\n",
       "16     7830\n",
       "      ...  \n",
       "73        2\n",
       "75        2\n",
       "77        1\n",
       "82        1\n",
       "76        1\n",
       "Name: NU_IDADE, Length: 65, dtype: int64"
      ]
     },
     "execution_count": 22,
     "metadata": {},
     "output_type": "execute_result"
    }
   ],
   "source": [
    "# descobrindo a quantidade de pessoas inscritas por idade\n",
    "dados['NU_IDADE'].value_counts()"
   ]
  },
  {
   "cell_type": "code",
   "execution_count": 23,
   "id": "c775bc50",
   "metadata": {},
   "outputs": [
    {
     "data": {
      "text/plain": [
       "13        4\n",
       "14      141\n",
       "15     2009\n",
       "16     7830\n",
       "17    21256\n",
       "      ...  \n",
       "73        2\n",
       "75        2\n",
       "76        1\n",
       "77        1\n",
       "82        1\n",
       "Name: NU_IDADE, Length: 65, dtype: int64"
      ]
     },
     "execution_count": 23,
     "metadata": {},
     "output_type": "execute_result"
    }
   ],
   "source": [
    "# mesmo exemplo anterior mas dessa vez ordenando pela idade e não pela quantidade máxima de pessoas\n",
    "dados['NU_IDADE'].value_counts().sort_index()"
   ]
  },
  {
   "cell_type": "code",
   "execution_count": 26,
   "id": "87d4430a",
   "metadata": {},
   "outputs": [
    {
     "name": "stderr",
     "output_type": "stream",
     "text": [
      "Matplotlib is building the font cache; this may take a moment.\n"
     ]
    },
    {
     "data": {
      "text/plain": [
       "<AxesSubplot: >"
      ]
     },
     "execution_count": 26,
     "metadata": {},
     "output_type": "execute_result"
    },
    {
     "data": {
      "image/png": "[encoded data removed]",
      "text/plain": [
       "<Figure size 640x480 with 1 Axes>"
      ]
     },
     "metadata": {},
     "output_type": "display_data"
    }
   ],
   "source": [
    "# criando um histograma\n",
    "dados['NU_IDADE'].hist()"
   ]
  },
  {
   "cell_type": "code",
   "execution_count": 29,
   "id": "c42592d6",
   "metadata": {},
   "outputs": [
    {
     "data": {
      "text/plain": [
       "<AxesSubplot: >"
      ]
     },
     "execution_count": 29,
     "metadata": {},
     "output_type": "execute_result"
    },
    {
     "data": {
      "image/png": "[encoded data removed]",
      "text/plain": [
       "<Figure size 1000x800 with 1 Axes>"
      ]
     },
     "metadata": {},
     "output_type": "display_data"
    }
   ],
   "source": [
    "# criando um histograma mais detalhado\n",
    "dados['NU_IDADE'].hist(bins = 20, figsize = (10, 8))"
   ]
  },
  {
   "cell_type": "code",
   "execution_count": 34,
   "id": "84cfc8be",
   "metadata": {},
   "outputs": [
    {
     "name": "stdout",
     "output_type": "stream",
     "text": [
      "15401 pessoas participaram desta edição do ENEM como treineiros\n"
     ]
    }
   ],
   "source": [
    "# retornando a quantidade de treineiros\n",
    "treineiros = len(dados.query('IN_TREINEIRO == 1'))\n",
    "print(f'{treineiros} pessoas participaram desta edição do ENEM como treineiros')"
   ]
  },
  {
   "cell_type": "code",
   "execution_count": 35,
   "id": "451a6f9a",
   "metadata": {},
   "outputs": [
    {
     "data": {
      "text/plain": [
       "16    7142\n",
       "17    4901\n",
       "15    1927\n",
       "18     858\n",
       "19     228\n",
       "20      83\n",
       "14      64\n",
       "21      44\n",
       "22      30\n",
       "23      21\n",
       "24      13\n",
       "26      13\n",
       "29      10\n",
       "27       9\n",
       "25       8\n",
       "28       6\n",
       "42       4\n",
       "30       4\n",
       "40       4\n",
       "31       4\n",
       "38       4\n",
       "34       3\n",
       "35       2\n",
       "39       2\n",
       "36       2\n",
       "44       2\n",
       "32       2\n",
       "46       2\n",
       "47       1\n",
       "33       1\n",
       "55       1\n",
       "41       1\n",
       "62       1\n",
       "45       1\n",
       "51       1\n",
       "37       1\n",
       "48       1\n",
       "Name: NU_IDADE, dtype: int64"
      ]
     },
     "execution_count": 35,
     "metadata": {},
     "output_type": "execute_result"
    }
   ],
   "source": [
    "# retornando a quantidade de treineiros por idade (do maior para o menor)\n",
    "dados.query('IN_TREINEIRO == 1')['NU_IDADE'].value_counts()"
   ]
  },
  {
   "cell_type": "code",
   "execution_count": 36,
   "id": "64ecc94f",
   "metadata": {},
   "outputs": [
    {
     "data": {
      "text/plain": [
       "14      64\n",
       "15    1927\n",
       "16    7142\n",
       "17    4901\n",
       "18     858\n",
       "19     228\n",
       "20      83\n",
       "21      44\n",
       "22      30\n",
       "23      21\n",
       "24      13\n",
       "25       8\n",
       "26      13\n",
       "27       9\n",
       "28       6\n",
       "29      10\n",
       "30       4\n",
       "31       4\n",
       "32       2\n",
       "33       1\n",
       "34       3\n",
       "35       2\n",
       "36       2\n",
       "37       1\n",
       "38       4\n",
       "39       2\n",
       "40       4\n",
       "41       1\n",
       "42       4\n",
       "44       2\n",
       "45       1\n",
       "46       2\n",
       "47       1\n",
       "48       1\n",
       "51       1\n",
       "55       1\n",
       "62       1\n",
       "Name: NU_IDADE, dtype: int64"
      ]
     },
     "execution_count": 36,
     "metadata": {},
     "output_type": "execute_result"
    }
   ],
   "source": [
    "# retornando a quantidade de treineiros por idade (ordenando por idade, do menor para o maior)\n",
    "dados.query('IN_TREINEIRO == 1')['NU_IDADE'].value_counts().sort_index()"
   ]
  },
  {
   "cell_type": "code",
   "execution_count": 37,
   "id": "613e3366",
   "metadata": {},
   "outputs": [
    {
     "data": {
      "text/plain": [
       "<AxesSubplot: >"
      ]
     },
     "execution_count": 37,
     "metadata": {},
     "output_type": "execute_result"
    },
    {
     "data": {
      "image/png": "[encoded data removed]",
      "text/plain": [
       "<Figure size 640x480 with 1 Axes>"
      ]
     },
     "metadata": {},
     "output_type": "display_data"
    }
   ],
   "source": [
    "# histograma com as notas da redação\n",
    "dados['NU_NOTA_REDACAO'].hist(bins = 20)"
   ]
  },
  {
   "cell_type": "code",
   "execution_count": 42,
   "id": "5275c860",
   "metadata": {},
   "outputs": [
    {
     "name": "stdout",
     "output_type": "stream",
     "text": [
      "A média das notas da prova de redação foi de 571.57\n",
      "O desvio padrão é de 188.08\n"
     ]
    }
   ],
   "source": [
    "# retornando a média e desvio padrão das notas de uma determinada prova\n",
    "media_redacao = dados['NU_NOTA_REDACAO'].mean()\n",
    "print(f'A média das notas da prova de redação foi de {media_redacao:.2f}')\n",
    "\n",
    "desvio_padrao_redacao = dados['NU_NOTA_REDACAO'].std()\n",
    "print(f'O desvio padrão é de {desvio_padrao_redacao:.2f}')"
   ]
  },
  {
   "cell_type": "code",
   "execution_count": 17,
   "id": "27f90268",
   "metadata": {},
   "outputs": [
    {
     "data": {
      "text/html": [
       "<div>\n",
       "<style scoped>\n",
       "    .dataframe tbody tr th:only-of-type {\n",
       "        vertical-align: middle;\n",
       "    }\n",
       "\n",
       "    .dataframe tbody tr th {\n",
       "        vertical-align: top;\n",
       "    }\n",
       "\n",
       "    .dataframe thead th {\n",
       "        text-align: right;\n",
       "    }\n",
       "</style>\n",
       "<table border=\"1\" class=\"dataframe\">\n",
       "  <thead>\n",
       "    <tr style=\"text-align: right;\">\n",
       "      <th></th>\n",
       "      <th>NU_NOTA_CN</th>\n",
       "      <th>NU_NOTA_CH</th>\n",
       "      <th>NU_NOTA_MT</th>\n",
       "      <th>NU_NOTA_LC</th>\n",
       "      <th>NU_NOTA_REDACAO</th>\n",
       "    </tr>\n",
       "  </thead>\n",
       "  <tbody>\n",
       "    <tr>\n",
       "      <th>count</th>\n",
       "      <td>92758.000000</td>\n",
       "      <td>98043.000000</td>\n",
       "      <td>92758.000000</td>\n",
       "      <td>98043.000000</td>\n",
       "      <td>98043.000000</td>\n",
       "    </tr>\n",
       "    <tr>\n",
       "      <th>mean</th>\n",
       "      <td>477.964015</td>\n",
       "      <td>507.365912</td>\n",
       "      <td>523.555206</td>\n",
       "      <td>520.463928</td>\n",
       "      <td>571.570025</td>\n",
       "    </tr>\n",
       "    <tr>\n",
       "      <th>std</th>\n",
       "      <td>76.296099</td>\n",
       "      <td>82.972839</td>\n",
       "      <td>109.416939</td>\n",
       "      <td>64.556578</td>\n",
       "      <td>188.076455</td>\n",
       "    </tr>\n",
       "    <tr>\n",
       "      <th>min</th>\n",
       "      <td>0.000000</td>\n",
       "      <td>0.000000</td>\n",
       "      <td>0.000000</td>\n",
       "      <td>0.000000</td>\n",
       "      <td>0.000000</td>\n",
       "    </tr>\n",
       "    <tr>\n",
       "      <th>25%</th>\n",
       "      <td>418.000000</td>\n",
       "      <td>447.900000</td>\n",
       "      <td>435.300000</td>\n",
       "      <td>483.700000</td>\n",
       "      <td>480.000000</td>\n",
       "    </tr>\n",
       "    <tr>\n",
       "      <th>50%</th>\n",
       "      <td>470.200000</td>\n",
       "      <td>510.900000</td>\n",
       "      <td>501.600000</td>\n",
       "      <td>526.100000</td>\n",
       "      <td>580.000000</td>\n",
       "    </tr>\n",
       "    <tr>\n",
       "      <th>75%</th>\n",
       "      <td>533.300000</td>\n",
       "      <td>567.100000</td>\n",
       "      <td>598.200000</td>\n",
       "      <td>565.100000</td>\n",
       "      <td>680.000000</td>\n",
       "    </tr>\n",
       "    <tr>\n",
       "      <th>max</th>\n",
       "      <td>797.300000</td>\n",
       "      <td>809.400000</td>\n",
       "      <td>985.000000</td>\n",
       "      <td>801.700000</td>\n",
       "      <td>1000.000000</td>\n",
       "    </tr>\n",
       "  </tbody>\n",
       "</table>\n",
       "</div>"
      ],
      "text/plain": [
       "         NU_NOTA_CN    NU_NOTA_CH    NU_NOTA_MT    NU_NOTA_LC  NU_NOTA_REDACAO\n",
       "count  92758.000000  98043.000000  92758.000000  98043.000000     98043.000000\n",
       "mean     477.964015    507.365912    523.555206    520.463928       571.570025\n",
       "std       76.296099     82.972839    109.416939     64.556578       188.076455\n",
       "min        0.000000      0.000000      0.000000      0.000000         0.000000\n",
       "25%      418.000000    447.900000    435.300000    483.700000       480.000000\n",
       "50%      470.200000    510.900000    501.600000    526.100000       580.000000\n",
       "75%      533.300000    567.100000    598.200000    565.100000       680.000000\n",
       "max      797.300000    809.400000    985.000000    801.700000      1000.000000"
      ]
     },
     "execution_count": 17,
     "metadata": {},
     "output_type": "execute_result"
    }
   ],
   "source": [
    "provas = ['NU_NOTA_CN', 'NU_NOTA_CH', 'NU_NOTA_MT', 'NU_NOTA_LC', 'NU_NOTA_REDACAO']\n",
    "\n",
    "dados[provas].describe()"
   ]
  },
  {
   "cell_type": "code",
   "execution_count": 47,
   "id": "7ed84239",
   "metadata": {},
   "outputs": [
    {
     "name": "stdout",
     "output_type": "stream",
     "text": [
      "596 pessoas aproximadamente tiraram a nota mais alta na prova\n"
     ]
    }
   ],
   "source": [
    "# 10% das pessoas que tiraram nota mais alta\n",
    "qtde_pessoas_10 = int(dados['NU_NOTA_LC'].quantile(0.9))\n",
    "print(f'{qtde_pessoas_10} pessoas aproximadamente tiraram a nota mais alta na prova de Linguagens e Código')"
   ]
  },
  {
   "cell_type": "code",
   "execution_count": 48,
   "id": "5a9f02a5",
   "metadata": {},
   "outputs": [
    {
     "data": {
      "text/plain": [
       "<AxesSubplot: >"
      ]
     },
     "execution_count": 48,
     "metadata": {},
     "output_type": "execute_result"
    },
    {
     "data": {
      "image/png": "[encoded data removed]",
      "text/plain": [
       "<Figure size 800x600 with 1 Axes>"
      ]
     },
     "metadata": {},
     "output_type": "display_data"
    }
   ],
   "source": [
    "dados['NU_NOTA_LC'].plot.box(grid = True, figsize = (8, 6))"
   ]
  },
  {
   "cell_type": "code",
   "execution_count": 53,
   "id": "adbb251b",
   "metadata": {},
   "outputs": [
    {
     "data": {
      "text/plain": [
       "<AxesSubplot: >"
      ]
     },
     "execution_count": 53,
     "metadata": {},
     "output_type": "execute_result"
    },
    {
     "data": {
      "image/png": "[encoded data removed]",
      "text/plain": [
       "<Figure size 1000x500 with 1 Axes>"
      ]
     },
     "metadata": {},
     "output_type": "display_data"
    }
   ],
   "source": [
    "dados[provas].boxplot(grid = True, figsize = (10, 5))"
   ]
  },
  {
   "cell_type": "code",
   "execution_count": 2,
   "id": "1fe0d85b",
   "metadata": {},
   "outputs": [
    {
     "data": {
      "text/plain": [
       "PE    18\n",
       "CE    15\n",
       "BA    14\n",
       "PA    12\n",
       "MG    11\n",
       "SP    11\n",
       "MA     9\n",
       "PI     7\n",
       "GO     7\n",
       "PB     7\n",
       "MT     4\n",
       "AM     4\n",
       "DF     4\n",
       "TO     3\n",
       "SE     3\n",
       "PR     3\n",
       "AL     2\n",
       "RO     2\n",
       "SC     2\n",
       "AP     1\n",
       "RN     1\n",
       "ES     1\n",
       "AC     1\n",
       "RS     1\n",
       "RJ     1\n",
       "MS     1\n",
       "Name: SG_UF_RESIDENCIA, dtype: int64"
      ]
     },
     "execution_count": 2,
     "metadata": {},
     "output_type": "execute_result"
    }
   ],
   "source": [
    "# candidatos com idade menor ou igual a 14 anos por estado\n",
    "dados.query('NU_IDADE <= 14')['SG_UF_RESIDENCIA'].value_counts()"
   ]
  },
  {
   "cell_type": "code",
   "execution_count": 3,
   "id": "de7a6a82",
   "metadata": {},
   "outputs": [
    {
     "data": {
      "text/plain": [
       "PE    0.124138\n",
       "CE    0.103448\n",
       "BA    0.096552\n",
       "PA    0.082759\n",
       "MG    0.075862\n",
       "SP    0.075862\n",
       "MA    0.062069\n",
       "PI    0.048276\n",
       "GO    0.048276\n",
       "PB    0.048276\n",
       "MT    0.027586\n",
       "AM    0.027586\n",
       "DF    0.027586\n",
       "TO    0.020690\n",
       "SE    0.020690\n",
       "PR    0.020690\n",
       "AL    0.013793\n",
       "RO    0.013793\n",
       "SC    0.013793\n",
       "AP    0.006897\n",
       "RN    0.006897\n",
       "ES    0.006897\n",
       "AC    0.006897\n",
       "RS    0.006897\n",
       "RJ    0.006897\n",
       "MS    0.006897\n",
       "Name: SG_UF_RESIDENCIA, dtype: float64"
      ]
     },
     "execution_count": 3,
     "metadata": {},
     "output_type": "execute_result"
    }
   ],
   "source": [
    "# proporção\n",
    "dados.query('NU_IDADE <= 14')['SG_UF_RESIDENCIA'].value_counts(normalize = True)"
   ]
  },
  {
   "cell_type": "code",
   "execution_count": 6,
   "id": "8602a498",
   "metadata": {},
   "outputs": [
    {
     "data": {
      "text/plain": [
       "<AxesSubplot: ylabel='SG_UF_RESIDENCIA'>"
      ]
     },
     "execution_count": 6,
     "metadata": {},
     "output_type": "execute_result"
    },
    {
     "data": {
      "image/png": "[encoded data removed]",
      "text/plain": [
       "<Figure size 640x480 with 1 Axes>"
      ]
     },
     "metadata": {},
     "output_type": "display_data"
    }
   ],
   "source": [
    "# gráfico de pizza\n",
    "dados.query('NU_IDADE <= 14')['SG_UF_RESIDENCIA'].value_counts().plot.pie()"
   ]
  },
  {
   "cell_type": "code",
   "execution_count": 7,
   "id": "5ac050d1",
   "metadata": {},
   "outputs": [
    {
     "data": {
      "text/plain": [
       "<AxesSubplot: >"
      ]
     },
     "execution_count": 7,
     "metadata": {},
     "output_type": "execute_result"
    },
    {
     "data": {
      "image/png": "[encoded data removed]",
      "text/plain": [
       "<Figure size 640x480 with 1 Axes>"
      ]
     },
     "metadata": {},
     "output_type": "display_data"
    }
   ],
   "source": [
    "# gráfico de barras\n",
    "dados.query('NU_IDADE <= 14')['SG_UF_RESIDENCIA'].value_counts().plot.bar()"
   ]
  },
  {
   "cell_type": "code",
   "execution_count": 15,
   "id": "0c118a7d",
   "metadata": {},
   "outputs": [
    {
     "data": {
      "text/plain": [
       "<AxesSubplot: title={'center': 'Notas de Matemática por Renda'}, xlabel='Q006', ylabel='NU_NOTA_MT'>"
      ]
     },
     "execution_count": 15,
     "metadata": {},
     "output_type": "execute_result"
    },
    {
     "data": {
      "image/png": "[encoded data removed]",
      "text/plain": [
       "<Figure size 1000x800 with 1 Axes>"
      ]
     },
     "metadata": {},
     "output_type": "display_data"
    }
   ],
   "source": [
    "# usando a biblioteca seaborn\n",
    "import seaborn as sns\n",
    "import matplotlib.pyplot as plt\n",
    "\n",
    "# alterando o tamanho da imagem\n",
    "plt.figure(figsize = (10, 8))\n",
    "\n",
    "# adicionando um título ao gráfico\n",
    "plt.title('Notas de Matemática por Renda')\n",
    "\n",
    "# ordenação do eixo x\n",
    "renda_ordenada = dados['Q006'].unique()\n",
    "renda_ordenada.sort()\n",
    "\n",
    "sns.boxplot(x = 'Q006', y = 'NU_NOTA_MT', data = dados, order = renda_ordenada)"
   ]
  },
  {
   "cell_type": "code",
   "execution_count": 19,
   "id": "696f4ecd",
   "metadata": {},
   "outputs": [],
   "source": [
    "# retornando a soma das notas de cada candidato\n",
    "dados['NU_NOTA_TOTAL'] = dados[provas].sum(axis = 1)"
   ]
  },
  {
   "cell_type": "code",
   "execution_count": 20,
   "id": "cef9defd",
   "metadata": {},
   "outputs": [
    {
     "data": {
      "text/html": [
       "<div>\n",
       "<style scoped>\n",
       "    .dataframe tbody tr th:only-of-type {\n",
       "        vertical-align: middle;\n",
       "    }\n",
       "\n",
       "    .dataframe tbody tr th {\n",
       "        vertical-align: top;\n",
       "    }\n",
       "\n",
       "    .dataframe thead th {\n",
       "        text-align: right;\n",
       "    }\n",
       "</style>\n",
       "<table border=\"1\" class=\"dataframe\">\n",
       "  <thead>\n",
       "    <tr style=\"text-align: right;\">\n",
       "      <th></th>\n",
       "      <th>NU_INSCRICAO</th>\n",
       "      <th>NU_ANO</th>\n",
       "      <th>CO_MUNICIPIO_RESIDENCIA</th>\n",
       "      <th>NO_MUNICIPIO_RESIDENCIA</th>\n",
       "      <th>CO_UF_RESIDENCIA</th>\n",
       "      <th>SG_UF_RESIDENCIA</th>\n",
       "      <th>NU_IDADE</th>\n",
       "      <th>TP_SEXO</th>\n",
       "      <th>TP_ESTADO_CIVIL</th>\n",
       "      <th>TP_COR_RACA</th>\n",
       "      <th>...</th>\n",
       "      <th>Q017</th>\n",
       "      <th>Q018</th>\n",
       "      <th>Q019</th>\n",
       "      <th>Q020</th>\n",
       "      <th>Q021</th>\n",
       "      <th>Q022</th>\n",
       "      <th>Q023</th>\n",
       "      <th>Q024</th>\n",
       "      <th>Q025</th>\n",
       "      <th>NU_NOTA_TOTAL</th>\n",
       "    </tr>\n",
       "  </thead>\n",
       "  <tbody>\n",
       "    <tr>\n",
       "      <th>0</th>\n",
       "      <td>190001004661</td>\n",
       "      <td>2019</td>\n",
       "      <td>1506138</td>\n",
       "      <td>Redenção</td>\n",
       "      <td>15</td>\n",
       "      <td>PA</td>\n",
       "      <td>17</td>\n",
       "      <td>M</td>\n",
       "      <td>1</td>\n",
       "      <td>3</td>\n",
       "      <td>...</td>\n",
       "      <td>A</td>\n",
       "      <td>A</td>\n",
       "      <td>A</td>\n",
       "      <td>B</td>\n",
       "      <td>A</td>\n",
       "      <td>C</td>\n",
       "      <td>A</td>\n",
       "      <td>B</td>\n",
       "      <td>B</td>\n",
       "      <td>2288.9</td>\n",
       "    </tr>\n",
       "    <tr>\n",
       "      <th>1</th>\n",
       "      <td>190001004674</td>\n",
       "      <td>2019</td>\n",
       "      <td>1504208</td>\n",
       "      <td>Marabá</td>\n",
       "      <td>15</td>\n",
       "      <td>PA</td>\n",
       "      <td>23</td>\n",
       "      <td>M</td>\n",
       "      <td>1</td>\n",
       "      <td>3</td>\n",
       "      <td>...</td>\n",
       "      <td>A</td>\n",
       "      <td>A</td>\n",
       "      <td>B</td>\n",
       "      <td>A</td>\n",
       "      <td>A</td>\n",
       "      <td>B</td>\n",
       "      <td>A</td>\n",
       "      <td>A</td>\n",
       "      <td>B</td>\n",
       "      <td>1184.6</td>\n",
       "    </tr>\n",
       "    <tr>\n",
       "      <th>2</th>\n",
       "      <td>190001004722</td>\n",
       "      <td>2019</td>\n",
       "      <td>1501402</td>\n",
       "      <td>Belém</td>\n",
       "      <td>15</td>\n",
       "      <td>PA</td>\n",
       "      <td>35</td>\n",
       "      <td>F</td>\n",
       "      <td>2</td>\n",
       "      <td>1</td>\n",
       "      <td>...</td>\n",
       "      <td>A</td>\n",
       "      <td>A</td>\n",
       "      <td>B</td>\n",
       "      <td>A</td>\n",
       "      <td>B</td>\n",
       "      <td>B</td>\n",
       "      <td>A</td>\n",
       "      <td>A</td>\n",
       "      <td>B</td>\n",
       "      <td>2350.5</td>\n",
       "    </tr>\n",
       "    <tr>\n",
       "      <th>3</th>\n",
       "      <td>190001004735</td>\n",
       "      <td>2019</td>\n",
       "      <td>1507300</td>\n",
       "      <td>São Félix do Xingu</td>\n",
       "      <td>15</td>\n",
       "      <td>PA</td>\n",
       "      <td>23</td>\n",
       "      <td>F</td>\n",
       "      <td>1</td>\n",
       "      <td>3</td>\n",
       "      <td>...</td>\n",
       "      <td>A</td>\n",
       "      <td>A</td>\n",
       "      <td>B</td>\n",
       "      <td>A</td>\n",
       "      <td>A</td>\n",
       "      <td>B</td>\n",
       "      <td>A</td>\n",
       "      <td>A</td>\n",
       "      <td>B</td>\n",
       "      <td>2555.7</td>\n",
       "    </tr>\n",
       "    <tr>\n",
       "      <th>4</th>\n",
       "      <td>190001004776</td>\n",
       "      <td>2019</td>\n",
       "      <td>1500800</td>\n",
       "      <td>Ananindeua</td>\n",
       "      <td>15</td>\n",
       "      <td>PA</td>\n",
       "      <td>16</td>\n",
       "      <td>F</td>\n",
       "      <td>1</td>\n",
       "      <td>3</td>\n",
       "      <td>...</td>\n",
       "      <td>A</td>\n",
       "      <td>A</td>\n",
       "      <td>B</td>\n",
       "      <td>A</td>\n",
       "      <td>A</td>\n",
       "      <td>D</td>\n",
       "      <td>A</td>\n",
       "      <td>A</td>\n",
       "      <td>B</td>\n",
       "      <td>2803.5</td>\n",
       "    </tr>\n",
       "  </tbody>\n",
       "</table>\n",
       "<p>5 rows × 137 columns</p>\n",
       "</div>"
      ],
      "text/plain": [
       "   NU_INSCRICAO  NU_ANO  CO_MUNICIPIO_RESIDENCIA NO_MUNICIPIO_RESIDENCIA  \\\n",
       "0  190001004661    2019                  1506138                Redenção   \n",
       "1  190001004674    2019                  1504208                  Marabá   \n",
       "2  190001004722    2019                  1501402                   Belém   \n",
       "3  190001004735    2019                  1507300      São Félix do Xingu   \n",
       "4  190001004776    2019                  1500800              Ananindeua   \n",
       "\n",
       "   CO_UF_RESIDENCIA SG_UF_RESIDENCIA  NU_IDADE TP_SEXO  TP_ESTADO_CIVIL  \\\n",
       "0                15               PA        17       M                1   \n",
       "1                15               PA        23       M                1   \n",
       "2                15               PA        35       F                2   \n",
       "3                15               PA        23       F                1   \n",
       "4                15               PA        16       F                1   \n",
       "\n",
       "   TP_COR_RACA  ...  Q017  Q018 Q019  Q020 Q021  Q022  Q023  Q024  Q025  \\\n",
       "0            3  ...     A     A    A     B    A     C     A     B     B   \n",
       "1            3  ...     A     A    B     A    A     B     A     A     B   \n",
       "2            1  ...     A     A    B     A    B     B     A     A     B   \n",
       "3            3  ...     A     A    B     A    A     B     A     A     B   \n",
       "4            3  ...     A     A    B     A    A     D     A     A     B   \n",
       "\n",
       "   NU_NOTA_TOTAL  \n",
       "0         2288.9  \n",
       "1         1184.6  \n",
       "2         2350.5  \n",
       "3         2555.7  \n",
       "4         2803.5  \n",
       "\n",
       "[5 rows x 137 columns]"
      ]
     },
     "execution_count": 20,
     "metadata": {},
     "output_type": "execute_result"
    }
   ],
   "source": [
    "# visualizando a nova coluna criada\n",
    "dados.head()"
   ]
  },
  {
   "cell_type": "code",
   "execution_count": null,
   "id": "0f98e26a",
   "metadata": {},
   "outputs": [],
   "source": []
  },
  {
   "cell_type": "code",
   "execution_count": null,
   "id": "82f36329",
   "metadata": {},
   "outputs": [],
   "source": []
  },
  {
   "cell_type": "markdown",
   "id": "c9aa1e81",
   "metadata": {},
   "source": [
    "### Minhas análises"
   ]
  },
  {
   "cell_type": "code",
   "execution_count": 32,
   "id": "ce79e19e",
   "metadata": {},
   "outputs": [
    {
     "name": "stdout",
     "output_type": "stream",
     "text": [
      "51497 candidatos do sexo masculino\n",
      "75883 candidatos do sexo feminino\n"
     ]
    }
   ],
   "source": [
    "# descobrindo a quantidade de pessoas do sexo masculino e feminino\n",
    "qtde_masculino = len(dados.query(\"TP_SEXO == 'M'\"))\n",
    "qtde_feminino = len(dados.query(\"TP_SEXO == 'F'\"))\n",
    "\n",
    "print(f'{qtde_masculino} candidatos do sexo masculino\\n{qtde_feminino} candidatos do sexo feminino')"
   ]
  },
  {
   "cell_type": "code",
   "execution_count": 34,
   "id": "06401444",
   "metadata": {},
   "outputs": [
    {
     "name": "stdout",
     "output_type": "stream",
     "text": [
      "40.43% de candidatos do sexo masculino\n",
      "59.57% de candidatos do sexo feminino\n"
     ]
    }
   ],
   "source": [
    "# representatividade de candidatos masculinos e femininos\n",
    "total_de_candidatos = len(dados)\n",
    "\n",
    "representatividade_masculino = qtde_masculino / total_de_candidatos * 100\n",
    "representatividade_feminino = qtde_feminino / total_de_candidatos * 100\n",
    "\n",
    "print(f'{representatividade_masculino:.2f}% de candidatos do sexo masculino\\n{representatividade_feminino:.2f}% de candidatos do sexo feminino')"
   ]
  },
  {
   "cell_type": "code",
   "execution_count": 68,
   "id": "2693eec4",
   "metadata": {},
   "outputs": [
    {
     "name": "stdout",
     "output_type": "stream",
     "text": [
      "\n",
      "Candidatos com estado civil não informado: 5126\n",
      "Candidatos solteiros: 109915\n",
      "Candidatos casados: 9913\n",
      "Candidatos divorciados: 2277\n",
      "Candidatos viúvos: 149\n",
      "\n"
     ]
    }
   ],
   "source": [
    "# quantidade de candidatos por estado civil\n",
    "estado_civil_ni = len(dados.query('TP_ESTADO_CIVIL == 0'))\n",
    "estado_civil_solteiro = len(dados.query('TP_ESTADO_CIVIL == 1'))\n",
    "estado_civil_casado = len(dados.query('TP_ESTADO_CIVIL == 2'))\n",
    "estado_civil_divorciado = len(dados.query('TP_ESTADO_CIVIL == 3'))\n",
    "estado_civil_viuvo = len(dados.query('TP_ESTADO_CIVIL == 4'))\n",
    "\n",
    "print(f'''\n",
    "Candidatos com estado civil não informado: {estado_civil_ni}\n",
    "Candidatos solteiros: {estado_civil_solteiro}\n",
    "Candidatos casados: {estado_civil_casado}\n",
    "Candidatos divorciados: {estado_civil_divorciado}\n",
    "Candidatos viúvos: {estado_civil_viuvo}\n",
    "''')"
   ]
  },
  {
   "cell_type": "code",
   "execution_count": 70,
   "id": "76e77a1f",
   "metadata": {},
   "outputs": [
    {
     "name": "stdout",
     "output_type": "stream",
     "text": [
      "\n",
      "Representatividade de candidatos com estado civil não informado: 4.02%\n",
      "Representatividade de candidatos solteiros: 86.29%\n",
      "Representatividade de candidatos casados: 7.78%\n",
      "Representatividade de candidatos divorciados: 1.79%\n",
      "Representatividade de candidatos viúvos: 0.12%\n",
      "\n"
     ]
    }
   ],
   "source": [
    "# representatividade dos candidatos por estado civil\n",
    "representatividade_estado_civil_ni = estado_civil_ni / total_de_candidatos * 100\n",
    "representatividade_estado_civil_solteiro = estado_civil_solteiro / total_de_candidatos * 100\n",
    "representatividade_estado_civil_casado = estado_civil_casado / total_de_candidatos * 100\n",
    "representatividade_estado_civil_divorciado = estado_civil_divorciado / total_de_candidatos * 100\n",
    "representatividade_estado_civil_viuvo = estado_civil_viuvo / total_de_candidatos * 100\n",
    "\n",
    "print(f'''\n",
    "Representatividade de candidatos com estado civil não informado: {representatividade_estado_civil_ni:.2f}%\n",
    "Representatividade de candidatos solteiros: {representatividade_estado_civil_solteiro:.2f}%\n",
    "Representatividade de candidatos casados: {representatividade_estado_civil_casado:.2f}%\n",
    "Representatividade de candidatos divorciados: {representatividade_estado_civil_divorciado:.2f}%\n",
    "Representatividade de candidatos viúvos: {representatividade_estado_civil_viuvo:.2f}%\n",
    "''')"
   ]
  },
  {
   "cell_type": "code",
   "execution_count": 71,
   "id": "d4f73a19",
   "metadata": {},
   "outputs": [
    {
     "name": "stdout",
     "output_type": "stream",
     "text": [
      "\n",
      "2565 candidatos sem cor/raça declarada\n",
      "45616 candidatos de cor/raça branca\n",
      "16300 candidatos de cor/raça preta\n",
      "59132 candidatos de cor/raça parda\n",
      "2975 candidatos de cor/raça amarela\n",
      "792 candidatos de cor/raça indígena\n",
      "\n"
     ]
    }
   ],
   "source": [
    "# quantidade de candidatos por raça\n",
    "raca_nd = len(dados.query('TP_COR_RACA == 0'))\n",
    "raca_branca = len(dados.query('TP_COR_RACA == 1'))\n",
    "raca_preta = len(dados.query('TP_COR_RACA == 2'))\n",
    "raca_parda = len(dados.query('TP_COR_RACA == 3'))\n",
    "raca_amarela = len(dados.query('TP_COR_RACA == 4'))\n",
    "raca_indigena = len(dados.query('TP_COR_RACA == 5'))\n",
    "\n",
    "print(f'''\n",
    "{raca_nd} candidatos sem cor/raça declarada\n",
    "{raca_branca} candidatos de cor/raça branca\n",
    "{raca_preta} candidatos de cor/raça preta\n",
    "{raca_parda} candidatos de cor/raça parda\n",
    "{raca_amarela} candidatos de cor/raça amarela\n",
    "{raca_indigena} candidatos de cor/raça indígena\n",
    "''')"
   ]
  },
  {
   "cell_type": "code",
   "execution_count": 74,
   "id": "1f3d00ce",
   "metadata": {},
   "outputs": [
    {
     "name": "stdout",
     "output_type": "stream",
     "text": [
      "\n",
      "2.01% candidatos sem cor/raça declarada\n",
      "35.81% candidatos de cor/raça branca\n",
      "12.80% candidatos de cor/raça preta\n",
      "46.42% candidatos de cor/raça parda\n",
      "2.34% candidatos de cor/raça amarela\n",
      "0.62% candidatos de cor/raça indígena\n",
      "\n"
     ]
    }
   ],
   "source": [
    "# representatividade de candidatos por raça\n",
    "representatividade_raca_nd = raca_nd / total_de_candidatos * 100\n",
    "representatividade_raca_branca = raca_branca / total_de_candidatos * 100\n",
    "representatividade_raca_preta = raca_preta / total_de_candidatos * 100\n",
    "representatividade_raca_parda = raca_parda / total_de_candidatos * 100\n",
    "representatividade_raca_amarela = raca_amarela / total_de_candidatos * 100\n",
    "representatividade_raca_indigena = raca_indigena / total_de_candidatos * 100\n",
    "\n",
    "print(f'''\n",
    "{representatividade_raca_nd:.2f}% candidatos sem cor/raça declarada\n",
    "{representatividade_raca_branca:.2f}% candidatos de cor/raça branca\n",
    "{representatividade_raca_preta:.2f}% candidatos de cor/raça preta\n",
    "{representatividade_raca_parda:.2f}% candidatos de cor/raça parda\n",
    "{representatividade_raca_amarela:.2f}% candidatos de cor/raça amarela\n",
    "{representatividade_raca_indigena:.2f}% candidatos de cor/raça indígena\n",
    "''')"
   ]
  },
  {
   "cell_type": "code",
   "execution_count": 76,
   "id": "32a6df08",
   "metadata": {},
   "outputs": [
    {
     "name": "stdout",
     "output_type": "stream",
     "text": [
      "\n",
      "174 candidatos que não informaram sua nacionalidade\n",
      "123757 candidatos brasileiros\n",
      "3154 candidatos brasileiros_naturalizados\n",
      "127 candidatos estrangeiros\n",
      "168 candidatos brasileiros nascidos no exterior\n",
      "\n"
     ]
    }
   ],
   "source": [
    "# quantidade de candidatos por nacionalidade\n",
    "nacionalidade_ni = len(dados.query('TP_NACIONALIDADE == 0'))\n",
    "brasileiro = len(dados.query('TP_NACIONALIDADE == 1'))\n",
    "brasileiro_naturalizado = len(dados.query('TP_NACIONALIDADE == 2'))\n",
    "estrangeiro = len(dados.query('TP_NACIONALIDADE == 3'))\n",
    "br_nascido_exterior = len(dados.query('TP_NACIONALIDADE == 4'))\n",
    "\n",
    "print(f'''\n",
    "{nacionalidade_ni} candidatos que não informaram sua nacionalidade\n",
    "{brasileiro} candidatos brasileiros\n",
    "{brasileiro_naturalizado} candidatos brasileiros naturalizados\n",
    "{estrangeiro} candidatos estrangeiros\n",
    "{br_nascido_exterior} candidatos brasileiros nascidos no exterior\n",
    "''')"
   ]
  },
  {
   "cell_type": "code",
   "execution_count": 77,
   "id": "7e5bae11",
   "metadata": {},
   "outputs": [
    {
     "name": "stdout",
     "output_type": "stream",
     "text": [
      "\n",
      "0.14% candidatos que não informaram sua nacionalidade\n",
      "97.16% candidatos brasileiros\n",
      "2.48% candidatos brasileiros naturalizados\n",
      "0.10% candidatos estrangeiros\n",
      "0.13% candidatos brasileiros nascidos no exterior\n",
      "\n"
     ]
    }
   ],
   "source": [
    "# representatividade de candidatos por nacionalidade\n",
    "representatividade_nacionalidade_ni = nacionalidade_ni / total_de_candidatos * 100\n",
    "representatividade_brasileiro = brasileiro / total_de_candidatos * 100\n",
    "representatividade_brasileiro_naturalizado = brasileiro_naturalizado / total_de_candidatos * 100\n",
    "representatividade_estrangeiro = estrangeiro / total_de_candidatos * 100\n",
    "representatividade_br_nascido_exterior = br_nascido_exterior / total_de_candidatos * 100\n",
    "\n",
    "print(f'''\n",
    "{representatividade_nacionalidade_ni:.2f}% candidatos que não informaram sua nacionalidade\n",
    "{representatividade_brasileiro:.2f}% candidatos brasileiros\n",
    "{representatividade_brasileiro_naturalizado:.2f}% candidatos brasileiros naturalizados\n",
    "{representatividade_estrangeiro:.2f}% candidatos estrangeiros\n",
    "{representatividade_br_nascido_exterior:.2f}% candidatos brasileiros nascidos no exterior\n",
    "''')"
   ]
  },
  {
   "cell_type": "code",
   "execution_count": 79,
   "id": "e9f4dda6",
   "metadata": {},
   "outputs": [
    {
     "name": "stdout",
     "output_type": "stream",
     "text": [
      "\n",
      "90807 candidatos não informaram o tipo da escola\n",
      "31045 candidatos estudam em escola pública\n",
      "5528 candidatos estudam em escola particular\n",
      "0 candidatos estudam no exterior\n",
      "\n"
     ]
    }
   ],
   "source": [
    "# quantidade de candidatos por tipo de escola\n",
    "escola_ni = len(dados.query('TP_ESCOLA == 1'))\n",
    "escola_publica = len(dados.query('TP_ESCOLA == 2'))\n",
    "escola_privada = len(dados.query('TP_ESCOLA == 3'))\n",
    "escola_exterior = len(dados.query('TP_ESCOLA == 4'))\n",
    "\n",
    "print(f'''\n",
    "{escola_ni} candidatos não informaram o tipo da escola\n",
    "{escola_publica} candidatos estudam em escola pública\n",
    "{escola_privada} candidatos estudam em escola particular\n",
    "{escola_exterior} candidatos estudam no exterior\n",
    "''')"
   ]
  },
  {
   "cell_type": "code",
   "execution_count": 87,
   "id": "26a402be",
   "metadata": {},
   "outputs": [
    {
     "name": "stdout",
     "output_type": "stream",
     "text": [
      "\n",
      "71.29% candidatos não informaram o tipo da escola\n",
      "24.37% candidatos estudam em escola pública\n",
      "4.34% candidatos estudam em escola particular\n",
      "\n"
     ]
    }
   ],
   "source": [
    "# representatividade de candidatos por tipo da escola\n",
    "representatividade_escola_ni = escola_ni / total_de_candidatos * 100\n",
    "representatividade_escola_publica = escola_publica / total_de_candidatos * 100\n",
    "representatividade_escola_privada = escola_privada / total_de_candidatos * 100\n",
    "\n",
    "print(f'''\n",
    "{representatividade_escola_ni:.2f}% candidatos não informaram o tipo da escola\n",
    "{representatividade_escola_publica:.2f}% candidatos estudam em escola pública\n",
    "{representatividade_escola_privada:.2f}% candidatos estudam em escola particular\n",
    "''')"
   ]
  },
  {
   "cell_type": "code",
   "execution_count": 82,
   "id": "22b8eab6",
   "metadata": {},
   "outputs": [
    {
     "name": "stdout",
     "output_type": "stream",
     "text": [
      "\n",
      "946 candidatos do Estado do Acre\n",
      "2263 candidatos do Estado de Alagoas\n",
      "1047 candidatos do Estado do Amapá\n",
      "2820 candidatos do Estado do Amazonas\n",
      "10040 candidatos do Estado da Bahia\n",
      "7381 candidatos do Estado do Ceará\n",
      "2408 candidatos do Distrito Federal\n",
      "2550 candidatos do Estado do Espírito Santo\n",
      "4268 candidatos do Estado de Goiás\n",
      "5543 candidatos do Estado do Maranhão\n",
      "2230 candidatos do Estado do Mato Grosso\n",
      "1655 candidatos do Estado do Mato Grosso do Sul\n",
      "13547 candidatos do Estado de Minas Gerais\n",
      "7170 candidatos do Estado do Pará\n",
      "3690 candidatos do Estado da Paraíba\n",
      "5259 candidatos do Estado do Paraná\n",
      "6941 candidatos do Estado de Pernambuco\n",
      "3034 candidatos do Estado do Piauí\n",
      "8467 candidatos do Estado do Rio de Janeiro\n",
      "2959 candidatos do Estado do Rio Grande do Norte\n",
      "5466 candidatos do Estado do Rio Grande do Sul\n",
      "1400 candidatos do Estado de Rondônia\n",
      "366 candidatos do Estado de Roraima\n",
      "2673 candidatos do Estado de Santa Catarina\n",
      "20264 candidatos do Estado de São Paulo\n",
      "1815 candidatos do Estado de Sergipe\n",
      "1178 candidatos do Estado do Tocantis\n",
      "\n"
     ]
    }
   ],
   "source": [
    "# quantidade de candidatos por estado\n",
    "candidatos_ac = len(dados.query(\"SG_UF_RESIDENCIA == 'AC'\"))\n",
    "candidatos_al = len(dados.query(\"SG_UF_RESIDENCIA == 'AL'\"))\n",
    "candidatos_ap = len(dados.query(\"SG_UF_RESIDENCIA == 'AP'\"))\n",
    "candidatos_am = len(dados.query(\"SG_UF_RESIDENCIA == 'AM'\"))\n",
    "candidatos_ba = len(dados.query(\"SG_UF_RESIDENCIA == 'BA'\"))\n",
    "candidatos_ce = len(dados.query(\"SG_UF_RESIDENCIA == 'CE'\"))\n",
    "candidatos_df = len(dados.query(\"SG_UF_RESIDENCIA == 'DF'\"))\n",
    "candidatos_es = len(dados.query(\"SG_UF_RESIDENCIA == 'ES'\"))\n",
    "candidatos_go = len(dados.query(\"SG_UF_RESIDENCIA == 'GO'\"))\n",
    "candidatos_ma = len(dados.query(\"SG_UF_RESIDENCIA == 'MA'\"))\n",
    "candidatos_mt = len(dados.query(\"SG_UF_RESIDENCIA == 'MT'\"))\n",
    "candidatos_ms = len(dados.query(\"SG_UF_RESIDENCIA == 'MS'\"))\n",
    "candidatos_mg = len(dados.query(\"SG_UF_RESIDENCIA == 'MG'\"))\n",
    "candidatos_pa = len(dados.query(\"SG_UF_RESIDENCIA == 'PA'\"))\n",
    "candidatos_pb = len(dados.query(\"SG_UF_RESIDENCIA == 'PB'\"))\n",
    "candidatos_pr = len(dados.query(\"SG_UF_RESIDENCIA == 'PR'\"))\n",
    "candidatos_pe = len(dados.query(\"SG_UF_RESIDENCIA == 'PE'\"))\n",
    "candidatos_pi = len(dados.query(\"SG_UF_RESIDENCIA == 'PI'\"))\n",
    "candidatos_rj = len(dados.query(\"SG_UF_RESIDENCIA == 'RJ'\"))\n",
    "candidatos_rn = len(dados.query(\"SG_UF_RESIDENCIA == 'RN'\"))\n",
    "candidatos_rs = len(dados.query(\"SG_UF_RESIDENCIA == 'RS'\"))\n",
    "candidatos_ro = len(dados.query(\"SG_UF_RESIDENCIA == 'RO'\"))\n",
    "candidatos_rr = len(dados.query(\"SG_UF_RESIDENCIA == 'RR'\"))\n",
    "candidatos_sc = len(dados.query(\"SG_UF_RESIDENCIA == 'SC'\"))\n",
    "candidatos_sp = len(dados.query(\"SG_UF_RESIDENCIA == 'SP'\"))\n",
    "candidatos_se = len(dados.query(\"SG_UF_RESIDENCIA == 'SE'\"))\n",
    "candidatos_to = len(dados.query(\"SG_UF_RESIDENCIA == 'TO'\"))\n",
    "\n",
    "print(f'''\n",
    "{candidatos_ac} candidatos do Estado do Acre\n",
    "{candidatos_al} candidatos do Estado de Alagoas\n",
    "{candidatos_ap} candidatos do Estado do Amapá\n",
    "{candidatos_am} candidatos do Estado do Amazonas\n",
    "{candidatos_ba} candidatos do Estado da Bahia\n",
    "{candidatos_ce} candidatos do Estado do Ceará\n",
    "{candidatos_df} candidatos do Distrito Federal\n",
    "{candidatos_es} candidatos do Estado do Espírito Santo\n",
    "{candidatos_go} candidatos do Estado de Goiás\n",
    "{candidatos_ma} candidatos do Estado do Maranhão\n",
    "{candidatos_mt} candidatos do Estado do Mato Grosso\n",
    "{candidatos_ms} candidatos do Estado do Mato Grosso do Sul\n",
    "{candidatos_mg} candidatos do Estado de Minas Gerais\n",
    "{candidatos_pa} candidatos do Estado do Pará\n",
    "{candidatos_pb} candidatos do Estado da Paraíba\n",
    "{candidatos_pr} candidatos do Estado do Paraná\n",
    "{candidatos_pe} candidatos do Estado de Pernambuco\n",
    "{candidatos_pi} candidatos do Estado do Piauí\n",
    "{candidatos_rj} candidatos do Estado do Rio de Janeiro\n",
    "{candidatos_rn} candidatos do Estado do Rio Grande do Norte\n",
    "{candidatos_rs} candidatos do Estado do Rio Grande do Sul\n",
    "{candidatos_ro} candidatos do Estado de Rondônia\n",
    "{candidatos_rr} candidatos do Estado de Roraima\n",
    "{candidatos_sc} candidatos do Estado de Santa Catarina\n",
    "{candidatos_sp} candidatos do Estado de São Paulo\n",
    "{candidatos_se} candidatos do Estado de Sergipe\n",
    "{candidatos_to} candidatos do Estado do Tocantis\n",
    "''')"
   ]
  },
  {
   "cell_type": "code",
   "execution_count": 84,
   "id": "6c7d6c00",
   "metadata": {},
   "outputs": [
    {
     "name": "stdout",
     "output_type": "stream",
     "text": [
      "\n",
      "0.74% candidatos do Estado do Acre\n",
      "1.78% candidatos do Estado de Alagoas\n",
      "0.82% candidatos do Estado do Amapá\n",
      "2.21% candidatos do Estado do Amazonas\n",
      "7.88% candidatos do Estado da Bahia\n",
      "5.79% candidatos do Estado do Ceará\n",
      "1.89% candidatos do Distrito Federal\n",
      "2.00% candidatos do Estado do Espírito Santo\n",
      "3.35% candidatos do Estado de Goiás\n",
      "4.35% candidatos do Estado do Maranhão\n",
      "1.75% candidatos do Estado do Mato Grosso\n",
      "1.30% candidatos do Estado do Mato Grosso do Sul\n",
      "10.64% candidatos do Estado de Minas Gerais\n",
      "5.63% candidatos do Estado do Pará\n",
      "2.90% candidatos do Estado da Paraíba\n",
      "4.13% candidatos do Estado do Paraná\n",
      "5.45% candidatos do Estado de Pernambuco\n",
      "2.38% candidatos do Estado do Piauí\n",
      "6.65% candidatos do Estado do Rio de Janeiro\n",
      "2.32% candidatos do Estado do Rio Grande do Norte\n",
      "4.29% candidatos do Estado do Rio Grande do Sul\n",
      "1.10% candidatos do Estado de Rondônia\n",
      "0.29% candidatos do Estado de Roraima\n",
      "2.10% candidatos do Estado de Santa Catarina\n",
      "15.91% candidatos do Estado de São Paulo\n",
      "1.42% candidatos do Estado de Sergipe\n",
      "0.92% candidatos do Estado do Tocantis\n",
      "\n"
     ]
    }
   ],
   "source": [
    "# representatividade de candidatos por estado\n",
    "representatividade_candidatos_ac = candidatos_ac / total_de_candidatos * 100\n",
    "representatividade_candidatos_al = candidatos_al / total_de_candidatos * 100\n",
    "representatividade_candidatos_ap = candidatos_ap / total_de_candidatos * 100\n",
    "representatividade_candidatos_am = candidatos_am / total_de_candidatos * 100\n",
    "representatividade_candidatos_ba = candidatos_ba / total_de_candidatos * 100\n",
    "representatividade_candidatos_ce = candidatos_ce / total_de_candidatos * 100\n",
    "representatividade_candidatos_df = candidatos_df / total_de_candidatos * 100\n",
    "representatividade_candidatos_es = candidatos_es / total_de_candidatos * 100\n",
    "representatividade_candidatos_go = candidatos_go / total_de_candidatos * 100\n",
    "representatividade_candidatos_ma = candidatos_ma / total_de_candidatos * 100\n",
    "representatividade_candidatos_mt = candidatos_mt / total_de_candidatos * 100\n",
    "representatividade_candidatos_ms = candidatos_ms / total_de_candidatos * 100\n",
    "representatividade_candidatos_mg = candidatos_mg / total_de_candidatos * 100\n",
    "representatividade_candidatos_pa = candidatos_pa / total_de_candidatos * 100\n",
    "representatividade_candidatos_pb = candidatos_pb / total_de_candidatos * 100\n",
    "representatividade_candidatos_pr = candidatos_pr / total_de_candidatos * 100\n",
    "representatividade_candidatos_pe = candidatos_pe / total_de_candidatos * 100\n",
    "representatividade_candidatos_pi = candidatos_pi / total_de_candidatos * 100\n",
    "representatividade_candidatos_rj = candidatos_rj / total_de_candidatos * 100\n",
    "representatividade_candidatos_rn = candidatos_rn / total_de_candidatos * 100\n",
    "representatividade_candidatos_rs = candidatos_rs / total_de_candidatos * 100\n",
    "representatividade_candidatos_ro = candidatos_ro / total_de_candidatos * 100\n",
    "representatividade_candidatos_rr = candidatos_rr / total_de_candidatos * 100\n",
    "representatividade_candidatos_sc = candidatos_sc / total_de_candidatos * 100\n",
    "representatividade_candidatos_sp = candidatos_sp / total_de_candidatos * 100\n",
    "representatividade_candidatos_se = candidatos_se / total_de_candidatos * 100\n",
    "representatividade_candidatos_to = candidatos_to / total_de_candidatos * 100\n",
    "\n",
    "print(f'''\n",
    "{representatividade_candidatos_ac:.2f}% candidatos do Estado do Acre\n",
    "{representatividade_candidatos_al:.2f}% candidatos do Estado de Alagoas\n",
    "{representatividade_candidatos_ap:.2f}% candidatos do Estado do Amapá\n",
    "{representatividade_candidatos_am:.2f}% candidatos do Estado do Amazonas\n",
    "{representatividade_candidatos_ba:.2f}% candidatos do Estado da Bahia\n",
    "{representatividade_candidatos_ce:.2f}% candidatos do Estado do Ceará\n",
    "{representatividade_candidatos_df:.2f}% candidatos do Distrito Federal\n",
    "{representatividade_candidatos_es:.2f}% candidatos do Estado do Espírito Santo\n",
    "{representatividade_candidatos_go:.2f}% candidatos do Estado de Goiás\n",
    "{representatividade_candidatos_ma:.2f}% candidatos do Estado do Maranhão\n",
    "{representatividade_candidatos_mt:.2f}% candidatos do Estado do Mato Grosso\n",
    "{representatividade_candidatos_ms:.2f}% candidatos do Estado do Mato Grosso do Sul\n",
    "{representatividade_candidatos_mg:.2f}% candidatos do Estado de Minas Gerais\n",
    "{representatividade_candidatos_pa:.2f}% candidatos do Estado do Pará\n",
    "{representatividade_candidatos_pb:.2f}% candidatos do Estado da Paraíba\n",
    "{representatividade_candidatos_pr:.2f}% candidatos do Estado do Paraná\n",
    "{representatividade_candidatos_pe:.2f}% candidatos do Estado de Pernambuco\n",
    "{representatividade_candidatos_pi:.2f}% candidatos do Estado do Piauí\n",
    "{representatividade_candidatos_rj:.2f}% candidatos do Estado do Rio de Janeiro\n",
    "{representatividade_candidatos_rn:.2f}% candidatos do Estado do Rio Grande do Norte\n",
    "{representatividade_candidatos_rs:.2f}% candidatos do Estado do Rio Grande do Sul\n",
    "{representatividade_candidatos_ro:.2f}% candidatos do Estado de Rondônia\n",
    "{representatividade_candidatos_rr:.2f}% candidatos do Estado de Roraima\n",
    "{representatividade_candidatos_sc:.2f}% candidatos do Estado de Santa Catarina\n",
    "{representatividade_candidatos_sp:.2f}% candidatos do Estado de São Paulo\n",
    "{representatividade_candidatos_se:.2f}% candidatos do Estado de Sergipe\n",
    "{representatividade_candidatos_to:.2f}% candidatos do Estado do Tocantis\n",
    "''')"
   ]
  },
  {
   "cell_type": "code",
   "execution_count": 21,
   "id": "c1df5e27",
   "metadata": {},
   "outputs": [
    {
     "name": "stdout",
     "output_type": "stream",
     "text": [
      "\n",
      "10569 candidatos brancos que estudam em escola pública\n",
      "3535 candidatos brancos que estudam em escola particular\n",
      "\n"
     ]
    }
   ],
   "source": [
    "# candidatos brancos que estudam em escola pública e particular\n",
    "branco_tp_escola = list(dados.query('TP_COR_RACA == 1')['TP_ESCOLA'].value_counts())\n",
    "branco_escola_publica = branco_tp_escola[1]\n",
    "branco_escola_particular = branco_tp_escola[2]\n",
    "print(f'''\n",
    "{branco_escola_publica} candidatos brancos que estudam em escola pública\n",
    "{branco_escola_particular} candidatos brancos que estudam em escola particular\n",
    "''')"
   ]
  },
  {
   "cell_type": "code",
   "execution_count": 38,
   "id": "e146f61e",
   "metadata": {},
   "outputs": [
    {
     "name": "stdout",
     "output_type": "stream",
     "text": [
      "\n",
      "3869 candidatos negros que estudam em escola pública\n",
      "301 candidatos negros que estudam em escola particular\n",
      "\n"
     ]
    }
   ],
   "source": [
    "# candidatos negros que estudam em escola pública e particular\n",
    "negro_tp_escola = list(dados.query('TP_COR_RACA == 2')['TP_ESCOLA'].value_counts())\n",
    "negro_escola_publica = negro_tp_escola[1]\n",
    "negro_escola_particular = negro_tp_escola[2]\n",
    "print(f'''\n",
    "{negro_escola_publica} candidatos negros que estudam em escola pública\n",
    "{negro_escola_particular} candidatos negros que estudam em escola particular\n",
    "''')"
   ]
  },
  {
   "cell_type": "code",
   "execution_count": 26,
   "id": "b6eeb436",
   "metadata": {},
   "outputs": [
    {
     "name": "stdout",
     "output_type": "stream",
     "text": [
      "\n",
      "14966 candidatos pardos que estudam em escola pública\n",
      "1449 candidatos pardos que estudam em escola particular\n",
      "\n"
     ]
    }
   ],
   "source": [
    "# candidatos pardos que estudam em escola pública e particular\n",
    "pardo_tp_escola = list(dados.query('TP_COR_RACA == 3')['TP_ESCOLA'].value_counts())\n",
    "pardo_escola_publica = pardo_tp_escola[1]\n",
    "pardo_escola_particular = pardo_tp_escola[2]\n",
    "print(f'''\n",
    "{pardo_escola_publica} candidatos pardos que estudam em escola pública\n",
    "{pardo_escola_particular} candidatos pardos que estudam em escola particular\n",
    "''')"
   ]
  },
  {
   "cell_type": "code",
   "execution_count": 27,
   "id": "b170c54d",
   "metadata": {},
   "outputs": [
    {
     "name": "stdout",
     "output_type": "stream",
     "text": [
      "\n",
      "722 candidatos amarelos que estudam em escola pública\n",
      "127 candidatos amarelos que estudam em escola particular\n",
      "\n"
     ]
    }
   ],
   "source": [
    "# candidatos amarelos que estudam em escola pública e particular\n",
    "amarelo_tp_escola = list(dados.query('TP_COR_RACA == 4')['TP_ESCOLA'].value_counts())\n",
    "amarelo_escola_publica = amarelo_tp_escola[1]\n",
    "amarelo_escola_particular = amarelo_tp_escola[2]\n",
    "print(f'''\n",
    "{amarelo_escola_publica} candidatos amarelos que estudam em escola pública\n",
    "{amarelo_escola_particular} candidatos amarelos que estudam em escola particular\n",
    "''')"
   ]
  },
  {
   "cell_type": "code",
   "execution_count": 28,
   "id": "162b7259",
   "metadata": {},
   "outputs": [
    {
     "name": "stdout",
     "output_type": "stream",
     "text": [
      "\n",
      "223 candidatos indigenas que estudam em escola pública\n",
      "8 candidatos indigenas que estudam em escola particular\n",
      "\n"
     ]
    }
   ],
   "source": [
    "# candidatos indígenas que estudam em escola pública e particular\n",
    "indigena_tp_escola = list(dados.query('TP_COR_RACA == 5')['TP_ESCOLA'].value_counts())\n",
    "indigena_escola_publica = indigena_tp_escola[1]\n",
    "indigena_escola_particular = indigena_tp_escola[2]\n",
    "print(f'''\n",
    "{indigena_escola_publica} candidatos indigenas que estudam em escola pública\n",
    "{indigena_escola_particular} candidatos indigenas que estudam em escola particular\n",
    "''')"
   ]
  },
  {
   "cell_type": "code",
   "execution_count": 41,
   "id": "f0a0266d",
   "metadata": {},
   "outputs": [
    {
     "name": "stdout",
     "output_type": "stream",
     "text": [
      "\n",
      "8.30% dos candidatos brancos estudam em escola pública, os outros 2.78% estudam em escola particular\n",
      "3.04% dos candidatos negros estudam em escola pública, os outros 0.24% estudam em escola particular\n",
      "11.75% dos candidatos pardos estudam em escola pública, os outros 1.14% estudam em escola particular\n",
      "0.57% dos candidatos amarelos estudam em escola pública, os outros 0.10% estudam em escola particular\n",
      "0.18% dos candidatos indígenas estudam em escola pública, os outros 0.01% estudam em escola particular\n",
      "\n"
     ]
    }
   ],
   "source": [
    "# representatividade dos candidatos de todas as raças e escolas\n",
    "representatividade_branco_escola_publica = branco_escola_publica / total_de_candidatos * 100\n",
    "representatividade_branco_escola_particular = branco_escola_particular / total_de_candidatos * 100\n",
    "\n",
    "representatividade_negro_escola_publica = negro_escola_publica / total_de_candidatos * 100\n",
    "representatividade_negro_escola_particular = negro_escola_particular / total_de_candidatos * 100\n",
    "\n",
    "representatividade_pardo_escola_publica = pardo_escola_publica / total_de_candidatos * 100\n",
    "representatividade_pardo_escola_particular = pardo_escola_particular / total_de_candidatos * 100\n",
    "\n",
    "representatividade_amarelo_escola_publica = amarelo_escola_publica / total_de_candidatos * 100\n",
    "representatividade_amarelo_escola_particular = amarelo_escola_particular / total_de_candidatos * 100\n",
    "\n",
    "representatividade_indigena_escola_publica = indigena_escola_publica / total_de_candidatos * 100\n",
    "representatividade_indigena_escola_particular = indigena_escola_particular / total_de_candidatos * 100\n",
    "\n",
    "print(f'''\n",
    "{representatividade_branco_escola_publica:.2f}% dos candidatos brancos estudam em escola pública, os outros {representatividade_branco_escola_particular:.2f}% estudam em escola particular\n",
    "{representatividade_negro_escola_publica:.2f}% dos candidatos negros estudam em escola pública, os outros {representatividade_negro_escola_particular:.2f}% estudam em escola particular\n",
    "{representatividade_pardo_escola_publica:.2f}% dos candidatos pardos estudam em escola pública, os outros {representatividade_pardo_escola_particular:.2f}% estudam em escola particular\n",
    "{representatividade_amarelo_escola_publica:.2f}% dos candidatos amarelos estudam em escola pública, os outros {representatividade_amarelo_escola_particular:.2f}% estudam em escola particular\n",
    "{representatividade_indigena_escola_publica:.2f}% dos candidatos indígenas estudam em escola pública, os outros {representatividade_indigena_escola_particular:.2f}% estudam em escola particular\n",
    "''')"
   ]
  },
  {
   "cell_type": "code",
   "execution_count": null,
   "id": "1a271473",
   "metadata": {},
   "outputs": [],
   "source": []
  }
 ],
 "metadata": {
  "kernelspec": {
   "display_name": "Python 3 (ipykernel)",
   "language": "python",
   "name": "python3"
  },
  "language_info": {
   "codemirror_mode": {
    "name": "ipython",
    "version": 3
   },
   "file_extension": ".py",
   "mimetype": "text/x-python",
   "name": "python",
   "nbconvert_exporter": "python",
   "pygments_lexer": "ipython3",
   "version": "3.10.8"
  }
 },
 "nbformat": 4,
 "nbformat_minor": 5
}
